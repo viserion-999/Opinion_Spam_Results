{
 "cells": [
  {
   "cell_type": "code",
   "execution_count": 1,
   "metadata": {},
   "outputs": [],
   "source": [
    "import pandas as pd\n",
    "import numpy as  np\n",
    "import random"
   ]
  },
  {
   "cell_type": "code",
   "execution_count": 2,
   "metadata": {},
   "outputs": [],
   "source": [
    "metadata = \"/Users/anaghakaranam/Documents/MATLAB/SpEagle/15-collective_opinion_spam_detection/YelpNYC/YelpNYC_data/metadata\"\n",
    "review_content = \"/Users/anaghakaranam/Documents/MATLAB/SpEagle/15-collective_opinion_spam_detection/YelpNYC/YelpNYC_data/reviewContent\""
   ]
  },
  {
   "cell_type": "code",
   "execution_count": 3,
   "metadata": {},
   "outputs": [],
   "source": [
    "data=pd.read_csv(metadata,sep='\\t',header=None,names=['userid','productid','rating','label','date'])"
   ]
  },
  {
   "cell_type": "code",
   "execution_count": 4,
   "metadata": {},
   "outputs": [
    {
     "data": {
      "text/plain": [
       "(359052, 5)"
      ]
     },
     "execution_count": 4,
     "metadata": {},
     "output_type": "execute_result"
    }
   ],
   "source": [
    "data.shape"
   ]
  },
  {
   "cell_type": "code",
   "execution_count": 5,
   "metadata": {},
   "outputs": [
    {
     "data": {
      "text/html": [
       "<div>\n",
       "<style scoped>\n",
       "    .dataframe tbody tr th:only-of-type {\n",
       "        vertical-align: middle;\n",
       "    }\n",
       "\n",
       "    .dataframe tbody tr th {\n",
       "        vertical-align: top;\n",
       "    }\n",
       "\n",
       "    .dataframe thead th {\n",
       "        text-align: right;\n",
       "    }\n",
       "</style>\n",
       "<table border=\"1\" class=\"dataframe\">\n",
       "  <thead>\n",
       "    <tr style=\"text-align: right;\">\n",
       "      <th></th>\n",
       "      <th>userid</th>\n",
       "      <th>productid</th>\n",
       "      <th>rating</th>\n",
       "      <th>label</th>\n",
       "      <th>date</th>\n",
       "    </tr>\n",
       "  </thead>\n",
       "  <tbody>\n",
       "    <tr>\n",
       "      <td>0</td>\n",
       "      <td>923</td>\n",
       "      <td>0</td>\n",
       "      <td>3.0</td>\n",
       "      <td>-1</td>\n",
       "      <td>2014-12-08</td>\n",
       "    </tr>\n",
       "    <tr>\n",
       "      <td>1</td>\n",
       "      <td>924</td>\n",
       "      <td>0</td>\n",
       "      <td>3.0</td>\n",
       "      <td>-1</td>\n",
       "      <td>2013-05-16</td>\n",
       "    </tr>\n",
       "    <tr>\n",
       "      <td>2</td>\n",
       "      <td>925</td>\n",
       "      <td>0</td>\n",
       "      <td>4.0</td>\n",
       "      <td>-1</td>\n",
       "      <td>2013-07-01</td>\n",
       "    </tr>\n",
       "    <tr>\n",
       "      <td>3</td>\n",
       "      <td>926</td>\n",
       "      <td>0</td>\n",
       "      <td>4.0</td>\n",
       "      <td>-1</td>\n",
       "      <td>2011-07-28</td>\n",
       "    </tr>\n",
       "    <tr>\n",
       "      <td>4</td>\n",
       "      <td>927</td>\n",
       "      <td>0</td>\n",
       "      <td>4.0</td>\n",
       "      <td>-1</td>\n",
       "      <td>2010-11-01</td>\n",
       "    </tr>\n",
       "  </tbody>\n",
       "</table>\n",
       "</div>"
      ],
      "text/plain": [
       "   userid  productid  rating  label        date\n",
       "0     923          0     3.0     -1  2014-12-08\n",
       "1     924          0     3.0     -1  2013-05-16\n",
       "2     925          0     4.0     -1  2013-07-01\n",
       "3     926          0     4.0     -1  2011-07-28\n",
       "4     927          0     4.0     -1  2010-11-01"
      ]
     },
     "execution_count": 5,
     "metadata": {},
     "output_type": "execute_result"
    }
   ],
   "source": [
    "#split users & products they did on.\n",
    "data.head()"
   ]
  },
  {
   "cell_type": "code",
   "execution_count": 6,
   "metadata": {},
   "outputs": [],
   "source": [
    "#temp has number of users and count is the number of reviews each user gave. \n",
    "temp = data['userid'].groupby(data['userid']).agg(['count'])\n",
    "#temp.head()"
   ]
  },
  {
   "cell_type": "code",
   "execution_count": 7,
   "metadata": {},
   "outputs": [
    {
     "data": {
      "text/plain": [
       "Index(['userid', 'count'], dtype='object')"
      ]
     },
     "execution_count": 7,
     "metadata": {},
     "output_type": "execute_result"
    }
   ],
   "source": [
    "temp.reset_index(level=0, inplace=True)\n",
    "temp.columns"
   ]
  },
  {
   "cell_type": "code",
   "execution_count": 8,
   "metadata": {},
   "outputs": [
    {
     "data": {
      "text/html": [
       "<div>\n",
       "<style scoped>\n",
       "    .dataframe tbody tr th:only-of-type {\n",
       "        vertical-align: middle;\n",
       "    }\n",
       "\n",
       "    .dataframe tbody tr th {\n",
       "        vertical-align: top;\n",
       "    }\n",
       "\n",
       "    .dataframe thead th {\n",
       "        text-align: right;\n",
       "    }\n",
       "</style>\n",
       "<table border=\"1\" class=\"dataframe\">\n",
       "  <thead>\n",
       "    <tr style=\"text-align: right;\">\n",
       "      <th></th>\n",
       "      <th>userid</th>\n",
       "      <th>count</th>\n",
       "    </tr>\n",
       "  </thead>\n",
       "  <tbody>\n",
       "    <tr>\n",
       "      <td>0</td>\n",
       "      <td>923</td>\n",
       "      <td>39</td>\n",
       "    </tr>\n",
       "    <tr>\n",
       "      <td>1</td>\n",
       "      <td>924</td>\n",
       "      <td>1</td>\n",
       "    </tr>\n",
       "    <tr>\n",
       "      <td>2</td>\n",
       "      <td>925</td>\n",
       "      <td>2</td>\n",
       "    </tr>\n",
       "    <tr>\n",
       "      <td>3</td>\n",
       "      <td>926</td>\n",
       "      <td>1</td>\n",
       "    </tr>\n",
       "    <tr>\n",
       "      <td>4</td>\n",
       "      <td>927</td>\n",
       "      <td>5</td>\n",
       "    </tr>\n",
       "  </tbody>\n",
       "</table>\n",
       "</div>"
      ],
      "text/plain": [
       "   userid  count\n",
       "0     923     39\n",
       "1     924      1\n",
       "2     925      2\n",
       "3     926      1\n",
       "4     927      5"
      ]
     },
     "execution_count": 8,
     "metadata": {},
     "output_type": "execute_result"
    }
   ],
   "source": [
    "temp.head()"
   ]
  },
  {
   "cell_type": "code",
   "execution_count": 9,
   "metadata": {},
   "outputs": [],
   "source": [
    "# what we show here is that the number of people who wrote only 1 review is a lot. This can cause cold start problem\n",
    "#in graphs. (neighbors may not have enough information about the node to trust it or mistrust it. similar to humans)\n",
    "# We prove the same here on both the datasets."
   ]
  },
  {
   "cell_type": "code",
   "execution_count": 10,
   "metadata": {},
   "outputs": [],
   "source": [
    "#First the YelpNYC Dataset"
   ]
  },
  {
   "cell_type": "code",
   "execution_count": 11,
   "metadata": {},
   "outputs": [],
   "source": [
    "#add a column to represent the bin the user belongs to. \n",
    "bins = [0,5,10,15,20,25,30,35,40,45,50,55,60,65,70,75,80,85,90,95,100,105,110,115,120,125,130,135,140,145,150,155,160\n",
    "        ,165,170,175,185]\n",
    "temp['review_count_bins'] = pd.cut(temp['count'], bins)"
   ]
  },
  {
   "cell_type": "code",
   "execution_count": 12,
   "metadata": {},
   "outputs": [
    {
     "data": {
      "text/html": [
       "<div>\n",
       "<style scoped>\n",
       "    .dataframe tbody tr th:only-of-type {\n",
       "        vertical-align: middle;\n",
       "    }\n",
       "\n",
       "    .dataframe tbody tr th {\n",
       "        vertical-align: top;\n",
       "    }\n",
       "\n",
       "    .dataframe thead th {\n",
       "        text-align: right;\n",
       "    }\n",
       "</style>\n",
       "<table border=\"1\" class=\"dataframe\">\n",
       "  <thead>\n",
       "    <tr style=\"text-align: right;\">\n",
       "      <th></th>\n",
       "      <th>userid</th>\n",
       "      <th>count</th>\n",
       "      <th>review_count_bins</th>\n",
       "    </tr>\n",
       "  </thead>\n",
       "  <tbody>\n",
       "    <tr>\n",
       "      <td>0</td>\n",
       "      <td>923</td>\n",
       "      <td>39</td>\n",
       "      <td>(35, 40]</td>\n",
       "    </tr>\n",
       "    <tr>\n",
       "      <td>1</td>\n",
       "      <td>924</td>\n",
       "      <td>1</td>\n",
       "      <td>(0, 5]</td>\n",
       "    </tr>\n",
       "    <tr>\n",
       "      <td>2</td>\n",
       "      <td>925</td>\n",
       "      <td>2</td>\n",
       "      <td>(0, 5]</td>\n",
       "    </tr>\n",
       "    <tr>\n",
       "      <td>3</td>\n",
       "      <td>926</td>\n",
       "      <td>1</td>\n",
       "      <td>(0, 5]</td>\n",
       "    </tr>\n",
       "    <tr>\n",
       "      <td>4</td>\n",
       "      <td>927</td>\n",
       "      <td>5</td>\n",
       "      <td>(0, 5]</td>\n",
       "    </tr>\n",
       "  </tbody>\n",
       "</table>\n",
       "</div>"
      ],
      "text/plain": [
       "   userid  count review_count_bins\n",
       "0     923     39          (35, 40]\n",
       "1     924      1            (0, 5]\n",
       "2     925      2            (0, 5]\n",
       "3     926      1            (0, 5]\n",
       "4     927      5            (0, 5]"
      ]
     },
     "execution_count": 12,
     "metadata": {},
     "output_type": "execute_result"
    }
   ],
   "source": [
    "temp.head()"
   ]
  },
  {
   "cell_type": "code",
   "execution_count": 13,
   "metadata": {},
   "outputs": [
    {
     "data": {
      "text/plain": [
       "(160225, 3)"
      ]
     },
     "execution_count": 13,
     "metadata": {},
     "output_type": "execute_result"
    }
   ],
   "source": [
    "temp.shape"
   ]
  },
  {
   "cell_type": "code",
   "execution_count": 14,
   "metadata": {},
   "outputs": [],
   "source": [
    "#now that we have the bins, lets find the number of users in each bin. \n",
    "user_review_count =temp.groupby('review_count_bins')['userid'].count().reset_index(name='Count').to_dict(orient='records')"
   ]
  },
  {
   "cell_type": "code",
   "execution_count": 15,
   "metadata": {},
   "outputs": [
    {
     "data": {
      "text/plain": [
       "[{'review_count_bins': Interval(0, 5, closed='right'), 'Count': 149981},\n",
       " {'review_count_bins': Interval(5, 10, closed='right'), 'Count': 6111},\n",
       " {'review_count_bins': Interval(10, 15, closed='right'), 'Count': 1860},\n",
       " {'review_count_bins': Interval(15, 20, closed='right'), 'Count': 835},\n",
       " {'review_count_bins': Interval(20, 25, closed='right'), 'Count': 482},\n",
       " {'review_count_bins': Interval(25, 30, closed='right'), 'Count': 301},\n",
       " {'review_count_bins': Interval(30, 35, closed='right'), 'Count': 203},\n",
       " {'review_count_bins': Interval(35, 40, closed='right'), 'Count': 122},\n",
       " {'review_count_bins': Interval(40, 45, closed='right'), 'Count': 90},\n",
       " {'review_count_bins': Interval(45, 50, closed='right'), 'Count': 62},\n",
       " {'review_count_bins': Interval(50, 55, closed='right'), 'Count': 46},\n",
       " {'review_count_bins': Interval(55, 60, closed='right'), 'Count': 24},\n",
       " {'review_count_bins': Interval(60, 65, closed='right'), 'Count': 25},\n",
       " {'review_count_bins': Interval(65, 70, closed='right'), 'Count': 15},\n",
       " {'review_count_bins': Interval(70, 75, closed='right'), 'Count': 12},\n",
       " {'review_count_bins': Interval(75, 80, closed='right'), 'Count': 10},\n",
       " {'review_count_bins': Interval(80, 85, closed='right'), 'Count': 11},\n",
       " {'review_count_bins': Interval(85, 90, closed='right'), 'Count': 9},\n",
       " {'review_count_bins': Interval(90, 95, closed='right'), 'Count': 6},\n",
       " {'review_count_bins': Interval(95, 100, closed='right'), 'Count': 2},\n",
       " {'review_count_bins': Interval(100, 105, closed='right'), 'Count': 6},\n",
       " {'review_count_bins': Interval(105, 110, closed='right'), 'Count': 3},\n",
       " {'review_count_bins': Interval(110, 115, closed='right'), 'Count': 2},\n",
       " {'review_count_bins': Interval(115, 120, closed='right'), 'Count': 3},\n",
       " {'review_count_bins': Interval(120, 125, closed='right'), 'Count': 2},\n",
       " {'review_count_bins': Interval(125, 130, closed='right'), 'Count': 0},\n",
       " {'review_count_bins': Interval(130, 135, closed='right'), 'Count': 0},\n",
       " {'review_count_bins': Interval(135, 140, closed='right'), 'Count': 1},\n",
       " {'review_count_bins': Interval(140, 145, closed='right'), 'Count': 0},\n",
       " {'review_count_bins': Interval(145, 150, closed='right'), 'Count': 0},\n",
       " {'review_count_bins': Interval(150, 155, closed='right'), 'Count': 0},\n",
       " {'review_count_bins': Interval(155, 160, closed='right'), 'Count': 0},\n",
       " {'review_count_bins': Interval(160, 165, closed='right'), 'Count': 0},\n",
       " {'review_count_bins': Interval(165, 170, closed='right'), 'Count': 0},\n",
       " {'review_count_bins': Interval(170, 175, closed='right'), 'Count': 0},\n",
       " {'review_count_bins': Interval(175, 185, closed='right'), 'Count': 1}]"
      ]
     },
     "execution_count": 15,
     "metadata": {},
     "output_type": "execute_result"
    }
   ],
   "source": [
    "user_review_count\n",
    "#later draw a visualization for this."
   ]
  },
  {
   "cell_type": "code",
   "execution_count": 16,
   "metadata": {},
   "outputs": [
    {
     "data": {
      "text/plain": [
       "0.9360649087221096"
      ]
     },
     "execution_count": 16,
     "metadata": {},
     "output_type": "execute_result"
    }
   ],
   "source": [
    "# 93% of the users in the dataset wrote only 0-5 reviews. \n",
    "#Is that number of reviews enough to predict the authenticity of the spammer? We will check that in test2. After YelpZIP\n",
    "149981/160225"
   ]
  },
  {
   "cell_type": "code",
   "execution_count": null,
   "metadata": {},
   "outputs": [],
   "source": [
    "#149981 out of 160225 have written only 0-5 reviews. So, this could be the reason why the accuracy of Yelp NYC is low.\n",
    "#Compare the same for the Yelp ZIP data set which has higher accuracy below. \n",
    "#below is for YelpZip"
   ]
  },
  {
   "cell_type": "code",
   "execution_count": 48,
   "metadata": {},
   "outputs": [],
   "source": [
    "    metadata = \"/Users/anaghakaranam/Documents/MATLAB/SpEagle/15-collective_opinion_spam_detection/YelpZIP/YelpZip_data/metadata\"\n",
    "review_content = \"/Users/anaghakaranam/Documents/MATLAB/SpEagle/15-collective_opinion_spam_detection/YelpZIP/YelpZip_data/reviewContent\""
   ]
  },
  {
   "cell_type": "code",
   "execution_count": 49,
   "metadata": {},
   "outputs": [],
   "source": [
    "data=pd.read_csv(metadata,sep='\\t',header=None,names=['userid','productid','rating','label','date'])"
   ]
  },
  {
   "cell_type": "code",
   "execution_count": 50,
   "metadata": {},
   "outputs": [
    {
     "data": {
      "text/plain": [
       "(608598, 5)"
      ]
     },
     "execution_count": 50,
     "metadata": {},
     "output_type": "execute_result"
    }
   ],
   "source": [
    "data.shape"
   ]
  },
  {
   "cell_type": "code",
   "execution_count": 51,
   "metadata": {},
   "outputs": [
    {
     "data": {
      "text/html": [
       "<div>\n",
       "<style scoped>\n",
       "    .dataframe tbody tr th:only-of-type {\n",
       "        vertical-align: middle;\n",
       "    }\n",
       "\n",
       "    .dataframe tbody tr th {\n",
       "        vertical-align: top;\n",
       "    }\n",
       "\n",
       "    .dataframe thead th {\n",
       "        text-align: right;\n",
       "    }\n",
       "</style>\n",
       "<table border=\"1\" class=\"dataframe\">\n",
       "  <thead>\n",
       "    <tr style=\"text-align: right;\">\n",
       "      <th></th>\n",
       "      <th>userid</th>\n",
       "      <th>productid</th>\n",
       "      <th>rating</th>\n",
       "      <th>label</th>\n",
       "      <th>date</th>\n",
       "    </tr>\n",
       "  </thead>\n",
       "  <tbody>\n",
       "    <tr>\n",
       "      <td>0</td>\n",
       "      <td>5044</td>\n",
       "      <td>0</td>\n",
       "      <td>1.0</td>\n",
       "      <td>-1</td>\n",
       "      <td>2014-11-16</td>\n",
       "    </tr>\n",
       "    <tr>\n",
       "      <td>1</td>\n",
       "      <td>5045</td>\n",
       "      <td>0</td>\n",
       "      <td>1.0</td>\n",
       "      <td>-1</td>\n",
       "      <td>2014-09-08</td>\n",
       "    </tr>\n",
       "    <tr>\n",
       "      <td>2</td>\n",
       "      <td>5046</td>\n",
       "      <td>0</td>\n",
       "      <td>3.0</td>\n",
       "      <td>-1</td>\n",
       "      <td>2013-10-06</td>\n",
       "    </tr>\n",
       "    <tr>\n",
       "      <td>3</td>\n",
       "      <td>5047</td>\n",
       "      <td>0</td>\n",
       "      <td>5.0</td>\n",
       "      <td>-1</td>\n",
       "      <td>2014-11-30</td>\n",
       "    </tr>\n",
       "    <tr>\n",
       "      <td>4</td>\n",
       "      <td>5048</td>\n",
       "      <td>0</td>\n",
       "      <td>5.0</td>\n",
       "      <td>-1</td>\n",
       "      <td>2014-08-28</td>\n",
       "    </tr>\n",
       "  </tbody>\n",
       "</table>\n",
       "</div>"
      ],
      "text/plain": [
       "   userid  productid  rating  label        date\n",
       "0    5044          0     1.0     -1  2014-11-16\n",
       "1    5045          0     1.0     -1  2014-09-08\n",
       "2    5046          0     3.0     -1  2013-10-06\n",
       "3    5047          0     5.0     -1  2014-11-30\n",
       "4    5048          0     5.0     -1  2014-08-28"
      ]
     },
     "execution_count": 51,
     "metadata": {},
     "output_type": "execute_result"
    }
   ],
   "source": [
    "#split users & products they did on.\n",
    "data.head()"
   ]
  },
  {
   "cell_type": "code",
   "execution_count": 52,
   "metadata": {},
   "outputs": [],
   "source": [
    "#temp has number of users and count is the number of reviews each user gave. \n",
    "temp = data['userid'].groupby(data['userid']).agg(['count'])\n",
    "#temp.head()"
   ]
  },
  {
   "cell_type": "code",
   "execution_count": 53,
   "metadata": {},
   "outputs": [
    {
     "data": {
      "text/plain": [
       "Index(['userid', 'count'], dtype='object')"
      ]
     },
     "execution_count": 53,
     "metadata": {},
     "output_type": "execute_result"
    }
   ],
   "source": [
    "temp.reset_index(level=0, inplace=True)\n",
    "temp.columns"
   ]
  },
  {
   "cell_type": "code",
   "execution_count": 54,
   "metadata": {},
   "outputs": [
    {
     "data": {
      "text/plain": [
       "197"
      ]
     },
     "execution_count": 54,
     "metadata": {},
     "output_type": "execute_result"
    }
   ],
   "source": [
    "max(temp['count'])"
   ]
  },
  {
   "cell_type": "code",
   "execution_count": 55,
   "metadata": {},
   "outputs": [
    {
     "data": {
      "text/plain": [
       "1"
      ]
     },
     "execution_count": 55,
     "metadata": {},
     "output_type": "execute_result"
    }
   ],
   "source": [
    "min(temp['count'])"
   ]
  },
  {
   "cell_type": "code",
   "execution_count": 56,
   "metadata": {},
   "outputs": [],
   "source": [
    "#add a column to represent the bin the user belongs to. \n",
    "bins = [0,5,10,15,20,25,30,35,40,45,50,55,60,65,70,75,80,85,90,95,100,105,110,115,120,125,130,135,140,145,150,155,160\n",
    "        ,165,170,175,180,185,190,195,200]\n",
    "temp['review_count_bins'] = pd.cut(temp['count'], bins)"
   ]
  },
  {
   "cell_type": "code",
   "execution_count": 57,
   "metadata": {},
   "outputs": [],
   "source": [
    "#now that we have the bins, lets find the number of users in each bin. \n",
    "user_review_count =temp.groupby('review_count_bins')['userid'].count().reset_index(name='Count').to_dict(orient='records')"
   ]
  },
  {
   "cell_type": "code",
   "execution_count": 58,
   "metadata": {},
   "outputs": [
    {
     "data": {
      "text/plain": [
       "(260277, 3)"
      ]
     },
     "execution_count": 58,
     "metadata": {},
     "output_type": "execute_result"
    }
   ],
   "source": [
    "#unique users in YelpZIP dataset. \n",
    "temp.shape"
   ]
  },
  {
   "cell_type": "code",
   "execution_count": 59,
   "metadata": {},
   "outputs": [
    {
     "data": {
      "text/plain": [
       "[{'review_count_bins': Interval(0, 5, closed='right'), 'Count': 242238},\n",
       " {'review_count_bins': Interval(5, 10, closed='right'), 'Count': 10703},\n",
       " {'review_count_bins': Interval(10, 15, closed='right'), 'Count': 3185},\n",
       " {'review_count_bins': Interval(15, 20, closed='right'), 'Count': 1495},\n",
       " {'review_count_bins': Interval(20, 25, closed='right'), 'Count': 851},\n",
       " {'review_count_bins': Interval(25, 30, closed='right'), 'Count': 549},\n",
       " {'review_count_bins': Interval(30, 35, closed='right'), 'Count': 352},\n",
       " {'review_count_bins': Interval(35, 40, closed='right'), 'Count': 230},\n",
       " {'review_count_bins': Interval(40, 45, closed='right'), 'Count': 172},\n",
       " {'review_count_bins': Interval(45, 50, closed='right'), 'Count': 127},\n",
       " {'review_count_bins': Interval(50, 55, closed='right'), 'Count': 84},\n",
       " {'review_count_bins': Interval(55, 60, closed='right'), 'Count': 61},\n",
       " {'review_count_bins': Interval(60, 65, closed='right'), 'Count': 51},\n",
       " {'review_count_bins': Interval(65, 70, closed='right'), 'Count': 40},\n",
       " {'review_count_bins': Interval(70, 75, closed='right'), 'Count': 27},\n",
       " {'review_count_bins': Interval(75, 80, closed='right'), 'Count': 21},\n",
       " {'review_count_bins': Interval(80, 85, closed='right'), 'Count': 18},\n",
       " {'review_count_bins': Interval(85, 90, closed='right'), 'Count': 15},\n",
       " {'review_count_bins': Interval(90, 95, closed='right'), 'Count': 13},\n",
       " {'review_count_bins': Interval(95, 100, closed='right'), 'Count': 7},\n",
       " {'review_count_bins': Interval(100, 105, closed='right'), 'Count': 10},\n",
       " {'review_count_bins': Interval(105, 110, closed='right'), 'Count': 7},\n",
       " {'review_count_bins': Interval(110, 115, closed='right'), 'Count': 2},\n",
       " {'review_count_bins': Interval(115, 120, closed='right'), 'Count': 2},\n",
       " {'review_count_bins': Interval(120, 125, closed='right'), 'Count': 2},\n",
       " {'review_count_bins': Interval(125, 130, closed='right'), 'Count': 2},\n",
       " {'review_count_bins': Interval(130, 135, closed='right'), 'Count': 5},\n",
       " {'review_count_bins': Interval(135, 140, closed='right'), 'Count': 1},\n",
       " {'review_count_bins': Interval(140, 145, closed='right'), 'Count': 2},\n",
       " {'review_count_bins': Interval(145, 150, closed='right'), 'Count': 0},\n",
       " {'review_count_bins': Interval(150, 155, closed='right'), 'Count': 1},\n",
       " {'review_count_bins': Interval(155, 160, closed='right'), 'Count': 1},\n",
       " {'review_count_bins': Interval(160, 165, closed='right'), 'Count': 0},\n",
       " {'review_count_bins': Interval(165, 170, closed='right'), 'Count': 0},\n",
       " {'review_count_bins': Interval(170, 175, closed='right'), 'Count': 0},\n",
       " {'review_count_bins': Interval(175, 180, closed='right'), 'Count': 1},\n",
       " {'review_count_bins': Interval(180, 185, closed='right'), 'Count': 1},\n",
       " {'review_count_bins': Interval(185, 190, closed='right'), 'Count': 0},\n",
       " {'review_count_bins': Interval(190, 195, closed='right'), 'Count': 0},\n",
       " {'review_count_bins': Interval(195, 200, closed='right'), 'Count': 1}]"
      ]
     },
     "execution_count": 59,
     "metadata": {},
     "output_type": "execute_result"
    }
   ],
   "source": [
    "user_review_count\n",
    "#later draw a visualization for this."
   ]
  },
  {
   "cell_type": "code",
   "execution_count": 60,
   "metadata": {},
   "outputs": [
    {
     "data": {
      "text/plain": [
       "0.9306930693069307"
      ]
     },
     "execution_count": 60,
     "metadata": {},
     "output_type": "execute_result"
    }
   ],
   "source": [
    "#same case as YelpNYC.\n",
    "242238/260277"
   ]
  },
  {
   "cell_type": "markdown",
   "metadata": {},
   "source": [
    "# lets go to TEST 2.\n",
    "#Yelp NYC\n",
    "#fetch users who wrote only 1-5 reviews and see the model results for them\n"
   ]
  },
  {
   "cell_type": "code",
   "execution_count": null,
   "metadata": {},
   "outputs": [],
   "source": []
  },
  {
   "cell_type": "code",
   "execution_count": null,
   "metadata": {},
   "outputs": [],
   "source": []
  },
  {
   "cell_type": "code",
   "execution_count": 16,
   "metadata": {},
   "outputs": [
    {
     "data": {
      "text/html": [
       "<div>\n",
       "<style scoped>\n",
       "    .dataframe tbody tr th:only-of-type {\n",
       "        vertical-align: middle;\n",
       "    }\n",
       "\n",
       "    .dataframe tbody tr th {\n",
       "        vertical-align: top;\n",
       "    }\n",
       "\n",
       "    .dataframe thead th {\n",
       "        text-align: right;\n",
       "    }\n",
       "</style>\n",
       "<table border=\"1\" class=\"dataframe\">\n",
       "  <thead>\n",
       "    <tr style=\"text-align: right;\">\n",
       "      <th></th>\n",
       "      <th>userid</th>\n",
       "      <th>count</th>\n",
       "      <th>review_count_bins</th>\n",
       "    </tr>\n",
       "  </thead>\n",
       "  <tbody>\n",
       "    <tr>\n",
       "      <td>0</td>\n",
       "      <td>923</td>\n",
       "      <td>39</td>\n",
       "      <td>(35, 40]</td>\n",
       "    </tr>\n",
       "    <tr>\n",
       "      <td>1</td>\n",
       "      <td>924</td>\n",
       "      <td>1</td>\n",
       "      <td>(0, 5]</td>\n",
       "    </tr>\n",
       "    <tr>\n",
       "      <td>2</td>\n",
       "      <td>925</td>\n",
       "      <td>2</td>\n",
       "      <td>(0, 5]</td>\n",
       "    </tr>\n",
       "    <tr>\n",
       "      <td>3</td>\n",
       "      <td>926</td>\n",
       "      <td>1</td>\n",
       "      <td>(0, 5]</td>\n",
       "    </tr>\n",
       "    <tr>\n",
       "      <td>4</td>\n",
       "      <td>927</td>\n",
       "      <td>5</td>\n",
       "      <td>(0, 5]</td>\n",
       "    </tr>\n",
       "  </tbody>\n",
       "</table>\n",
       "</div>"
      ],
      "text/plain": [
       "   userid  count review_count_bins\n",
       "0     923     39          (35, 40]\n",
       "1     924      1            (0, 5]\n",
       "2     925      2            (0, 5]\n",
       "3     926      1            (0, 5]\n",
       "4     927      5            (0, 5]"
      ]
     },
     "execution_count": 16,
     "metadata": {},
     "output_type": "execute_result"
    }
   ],
   "source": [
    "temp.head()"
   ]
  },
  {
   "cell_type": "code",
   "execution_count": 63,
   "metadata": {},
   "outputs": [
    {
     "data": {
      "text/plain": [
       "242238"
      ]
     },
     "execution_count": 63,
     "metadata": {},
     "output_type": "execute_result"
    }
   ],
   "source": [
    "\n",
    "users_0_to_5_ynyc = temp['userid'].loc[temp['review_count_bins'] == pd.Interval(0, 5)]\n",
    "len(users_0_to_5_ynyc)"
   ]
  },
  {
   "cell_type": "code",
   "execution_count": 39,
   "metadata": {},
   "outputs": [
    {
     "data": {
      "text/plain": [
       "[139830, 114185, 100782, 38295, 94008, 69700, 117959, 17563, 24938]"
      ]
     },
     "execution_count": 39,
     "metadata": {},
     "output_type": "execute_result"
    }
   ],
   "source": [
    "#randomly choose 9 people out of these. \n",
    "\n",
    "users_0_to_5_sample_ynyc = pd.DataFrame()\n",
    "temp1 = random.sample(list(users_0_to_5_ynyc), 9)\n",
    "temp1"
   ]
  },
  {
   "cell_type": "code",
   "execution_count": 40,
   "metadata": {},
   "outputs": [
    {
     "data": {
      "text/html": [
       "<div>\n",
       "<style scoped>\n",
       "    .dataframe tbody tr th:only-of-type {\n",
       "        vertical-align: middle;\n",
       "    }\n",
       "\n",
       "    .dataframe tbody tr th {\n",
       "        vertical-align: top;\n",
       "    }\n",
       "\n",
       "    .dataframe thead th {\n",
       "        text-align: right;\n",
       "    }\n",
       "</style>\n",
       "<table border=\"1\" class=\"dataframe\">\n",
       "  <thead>\n",
       "    <tr style=\"text-align: right;\">\n",
       "      <th></th>\n",
       "      <th>userid</th>\n",
       "      <th>actual</th>\n",
       "    </tr>\n",
       "  </thead>\n",
       "  <tbody>\n",
       "    <tr>\n",
       "      <td>20319</td>\n",
       "      <td>17563</td>\n",
       "      <td>1</td>\n",
       "    </tr>\n",
       "    <tr>\n",
       "      <td>28732</td>\n",
       "      <td>17563</td>\n",
       "      <td>1</td>\n",
       "    </tr>\n",
       "    <tr>\n",
       "      <td>30526</td>\n",
       "      <td>24938</td>\n",
       "      <td>1</td>\n",
       "    </tr>\n",
       "    <tr>\n",
       "      <td>51619</td>\n",
       "      <td>38295</td>\n",
       "      <td>1</td>\n",
       "    </tr>\n",
       "    <tr>\n",
       "      <td>60389</td>\n",
       "      <td>24938</td>\n",
       "      <td>1</td>\n",
       "    </tr>\n",
       "    <tr>\n",
       "      <td>112089</td>\n",
       "      <td>69700</td>\n",
       "      <td>1</td>\n",
       "    </tr>\n",
       "    <tr>\n",
       "      <td>166670</td>\n",
       "      <td>94008</td>\n",
       "      <td>1</td>\n",
       "    </tr>\n",
       "    <tr>\n",
       "      <td>184039</td>\n",
       "      <td>100782</td>\n",
       "      <td>1</td>\n",
       "    </tr>\n",
       "    <tr>\n",
       "      <td>215959</td>\n",
       "      <td>114185</td>\n",
       "      <td>1</td>\n",
       "    </tr>\n",
       "    <tr>\n",
       "      <td>225444</td>\n",
       "      <td>117959</td>\n",
       "      <td>-1</td>\n",
       "    </tr>\n",
       "    <tr>\n",
       "      <td>244055</td>\n",
       "      <td>100782</td>\n",
       "      <td>1</td>\n",
       "    </tr>\n",
       "    <tr>\n",
       "      <td>290926</td>\n",
       "      <td>139830</td>\n",
       "      <td>1</td>\n",
       "    </tr>\n",
       "  </tbody>\n",
       "</table>\n",
       "</div>"
      ],
      "text/plain": [
       "        userid  actual\n",
       "20319    17563       1\n",
       "28732    17563       1\n",
       "30526    24938       1\n",
       "51619    38295       1\n",
       "60389    24938       1\n",
       "112089   69700       1\n",
       "166670   94008       1\n",
       "184039  100782       1\n",
       "215959  114185       1\n",
       "225444  117959      -1\n",
       "244055  100782       1\n",
       "290926  139830       1"
      ]
     },
     "execution_count": 40,
     "metadata": {},
     "output_type": "execute_result"
    }
   ],
   "source": [
    "#get the actual and predicted values for these users from the dataframe - 'data'\n",
    "\n",
    "users_0_to_5_sample_ynyc[['userid','actual']] = data[data['userid'].isin(list(temp1))][['userid','label']]\n",
    "users_0_to_5_sample_ynyc"
   ]
  },
  {
   "cell_type": "code",
   "execution_count": 42,
   "metadata": {},
   "outputs": [
    {
     "data": {
      "text/html": [
       "<div>\n",
       "<style scoped>\n",
       "    .dataframe tbody tr th:only-of-type {\n",
       "        vertical-align: middle;\n",
       "    }\n",
       "\n",
       "    .dataframe tbody tr th {\n",
       "        vertical-align: top;\n",
       "    }\n",
       "\n",
       "    .dataframe thead th {\n",
       "        text-align: right;\n",
       "    }\n",
       "</style>\n",
       "<table border=\"1\" class=\"dataframe\">\n",
       "  <thead>\n",
       "    <tr style=\"text-align: right;\">\n",
       "      <th></th>\n",
       "      <th>userid</th>\n",
       "      <th>actual</th>\n",
       "      <th>predicted</th>\n",
       "    </tr>\n",
       "  </thead>\n",
       "  <tbody>\n",
       "    <tr>\n",
       "      <td>20319</td>\n",
       "      <td>17563</td>\n",
       "      <td>1</td>\n",
       "      <td>-1</td>\n",
       "    </tr>\n",
       "    <tr>\n",
       "      <td>30526</td>\n",
       "      <td>24938</td>\n",
       "      <td>1</td>\n",
       "      <td>-1</td>\n",
       "    </tr>\n",
       "    <tr>\n",
       "      <td>51619</td>\n",
       "      <td>38295</td>\n",
       "      <td>1</td>\n",
       "      <td>-1</td>\n",
       "    </tr>\n",
       "    <tr>\n",
       "      <td>112089</td>\n",
       "      <td>69700</td>\n",
       "      <td>1</td>\n",
       "      <td>-1</td>\n",
       "    </tr>\n",
       "    <tr>\n",
       "      <td>166670</td>\n",
       "      <td>94008</td>\n",
       "      <td>1</td>\n",
       "      <td>-1</td>\n",
       "    </tr>\n",
       "    <tr>\n",
       "      <td>184039</td>\n",
       "      <td>100782</td>\n",
       "      <td>1</td>\n",
       "      <td>-1</td>\n",
       "    </tr>\n",
       "    <tr>\n",
       "      <td>215959</td>\n",
       "      <td>114185</td>\n",
       "      <td>1</td>\n",
       "      <td>-1</td>\n",
       "    </tr>\n",
       "    <tr>\n",
       "      <td>225444</td>\n",
       "      <td>117959</td>\n",
       "      <td>-1</td>\n",
       "      <td>-1</td>\n",
       "    </tr>\n",
       "    <tr>\n",
       "      <td>290926</td>\n",
       "      <td>139830</td>\n",
       "      <td>1</td>\n",
       "      <td>-1</td>\n",
       "    </tr>\n",
       "  </tbody>\n",
       "</table>\n",
       "</div>"
      ],
      "text/plain": [
       "        userid  actual  predicted\n",
       "20319    17563       1         -1\n",
       "30526    24938       1         -1\n",
       "51619    38295       1         -1\n",
       "112089   69700       1         -1\n",
       "166670   94008       1         -1\n",
       "184039  100782       1         -1\n",
       "215959  114185       1         -1\n",
       "225444  117959      -1         -1\n",
       "290926  139830       1         -1"
      ]
     },
     "execution_count": 42,
     "metadata": {},
     "output_type": "execute_result"
    }
   ],
   "source": [
    "users_0_to_5_sample_ynyc['predicted'] = -1\n",
    "users_0_to_5_sample_ynyc.drop_duplicates()"
   ]
  },
  {
   "cell_type": "code",
   "execution_count": null,
   "metadata": {},
   "outputs": [],
   "source": [
    "#problem cuz we are tagging users as once a spammer, always a spammer method. \n",
    "# cuz we label users, if a user wrote at least one filtered review s/he is fraud"
   ]
  },
  {
   "cell_type": "code",
   "execution_count": null,
   "metadata": {},
   "outputs": [],
   "source": [
    "#do the same thing for people with more reviews."
   ]
  },
  {
   "cell_type": "code",
   "execution_count": 43,
   "metadata": {},
   "outputs": [],
   "source": [
    "users_85_to_90 = temp['userid'].loc[temp['review_count_bins'] == pd.Interval(85, 90)]"
   ]
  },
  {
   "cell_type": "code",
   "execution_count": 44,
   "metadata": {},
   "outputs": [
    {
     "data": {
      "text/plain": [
       "124     1047\n",
       "953     1876\n",
       "1389    2312\n",
       "2031    2954\n",
       "2370    3293\n",
       "3731    4654\n",
       "4337    5260\n",
       "4635    5558\n",
       "4985    5908\n",
       "Name: userid, dtype: int64"
      ]
     },
     "execution_count": 44,
     "metadata": {},
     "output_type": "execute_result"
    }
   ],
   "source": [
    "users_85_to_90"
   ]
  },
  {
   "cell_type": "code",
   "execution_count": 45,
   "metadata": {},
   "outputs": [],
   "source": [
    "#randomly choose 9 people out of these. \n",
    "\n",
    "users_85_to_90_ynyc = pd.DataFrame()\n",
    "users_85_to_90_ynyc[['userid','actual']] = data[data['userid'].isin(list(users_85_to_90))][['userid','label']]"
   ]
  },
  {
   "cell_type": "code",
   "execution_count": 47,
   "metadata": {},
   "outputs": [
    {
     "data": {
      "text/html": [
       "<div>\n",
       "<style scoped>\n",
       "    .dataframe tbody tr th:only-of-type {\n",
       "        vertical-align: middle;\n",
       "    }\n",
       "\n",
       "    .dataframe tbody tr th {\n",
       "        vertical-align: top;\n",
       "    }\n",
       "\n",
       "    .dataframe thead th {\n",
       "        text-align: right;\n",
       "    }\n",
       "</style>\n",
       "<table border=\"1\" class=\"dataframe\">\n",
       "  <thead>\n",
       "    <tr style=\"text-align: right;\">\n",
       "      <th></th>\n",
       "      <th>userid</th>\n",
       "      <th>actual</th>\n",
       "    </tr>\n",
       "  </thead>\n",
       "  <tbody>\n",
       "    <tr>\n",
       "      <td>124</td>\n",
       "      <td>1047</td>\n",
       "      <td>1</td>\n",
       "    </tr>\n",
       "    <tr>\n",
       "      <td>956</td>\n",
       "      <td>1876</td>\n",
       "      <td>1</td>\n",
       "    </tr>\n",
       "    <tr>\n",
       "      <td>1403</td>\n",
       "      <td>2312</td>\n",
       "      <td>1</td>\n",
       "    </tr>\n",
       "    <tr>\n",
       "      <td>2085</td>\n",
       "      <td>2954</td>\n",
       "      <td>1</td>\n",
       "    </tr>\n",
       "    <tr>\n",
       "      <td>2437</td>\n",
       "      <td>3293</td>\n",
       "      <td>1</td>\n",
       "    </tr>\n",
       "    <tr>\n",
       "      <td>3862</td>\n",
       "      <td>4654</td>\n",
       "      <td>1</td>\n",
       "    </tr>\n",
       "    <tr>\n",
       "      <td>4525</td>\n",
       "      <td>5260</td>\n",
       "      <td>1</td>\n",
       "    </tr>\n",
       "    <tr>\n",
       "      <td>4858</td>\n",
       "      <td>5558</td>\n",
       "      <td>1</td>\n",
       "    </tr>\n",
       "    <tr>\n",
       "      <td>5272</td>\n",
       "      <td>5908</td>\n",
       "      <td>1</td>\n",
       "    </tr>\n",
       "  </tbody>\n",
       "</table>\n",
       "</div>"
      ],
      "text/plain": [
       "      userid  actual\n",
       "124     1047       1\n",
       "956     1876       1\n",
       "1403    2312       1\n",
       "2085    2954       1\n",
       "2437    3293       1\n",
       "3862    4654       1\n",
       "4525    5260       1\n",
       "4858    5558       1\n",
       "5272    5908       1"
      ]
     },
     "execution_count": 47,
     "metadata": {},
     "output_type": "execute_result"
    }
   ],
   "source": [
    "users_85_to_90_ynyc.drop_duplicates()"
   ]
  },
  {
   "cell_type": "code",
   "execution_count": null,
   "metadata": {},
   "outputs": [],
   "source": [
    "#for the above two users list, get the originals and predicted values and then find the accuracy."
   ]
  },
  {
   "cell_type": "markdown",
   "metadata": {},
   "source": [
    "# Yelp ZIP"
   ]
  },
  {
   "cell_type": "code",
   "execution_count": 61,
   "metadata": {},
   "outputs": [],
   "source": [
    "\n",
    "users_0_to_5_yzip = temp['userid'].loc[temp['review_count_bins'] == pd.Interval(0, 5)]\n"
   ]
  },
  {
   "cell_type": "code",
   "execution_count": 62,
   "metadata": {},
   "outputs": [
    {
     "data": {
      "text/plain": [
       "242238"
      ]
     },
     "execution_count": 62,
     "metadata": {},
     "output_type": "execute_result"
    }
   ],
   "source": [
    "len(users_0_to_5_yzip)"
   ]
  },
  {
   "cell_type": "code",
   "execution_count": 76,
   "metadata": {},
   "outputs": [
    {
     "data": {
      "text/plain": [
       "[98941,\n",
       " 132982,\n",
       " 20257,\n",
       " 205842,\n",
       " 237708,\n",
       " 220897,\n",
       " 146156,\n",
       " 264987,\n",
       " 216894,\n",
       " 173351,\n",
       " 230418,\n",
       " 46610,\n",
       " 215863,\n",
       " 223814,\n",
       " 180816]"
      ]
     },
     "execution_count": 76,
     "metadata": {},
     "output_type": "execute_result"
    }
   ],
   "source": [
    "#randomly choose 9 people out of these. \n",
    "\n",
    "users_0_to_5_sample_yzip = pd.DataFrame()\n",
    "temp1 = random.sample(list(users_0_to_5_yzip), 15)\n",
    "temp1"
   ]
  },
  {
   "cell_type": "code",
   "execution_count": 77,
   "metadata": {},
   "outputs": [
    {
     "data": {
      "text/html": [
       "<div>\n",
       "<style scoped>\n",
       "    .dataframe tbody tr th:only-of-type {\n",
       "        vertical-align: middle;\n",
       "    }\n",
       "\n",
       "    .dataframe tbody tr th {\n",
       "        vertical-align: top;\n",
       "    }\n",
       "\n",
       "    .dataframe thead th {\n",
       "        text-align: right;\n",
       "    }\n",
       "</style>\n",
       "<table border=\"1\" class=\"dataframe\">\n",
       "  <thead>\n",
       "    <tr style=\"text-align: right;\">\n",
       "      <th></th>\n",
       "      <th>userid</th>\n",
       "      <th>actual</th>\n",
       "    </tr>\n",
       "  </thead>\n",
       "  <tbody>\n",
       "    <tr>\n",
       "      <td>16821</td>\n",
       "      <td>20257</td>\n",
       "      <td>1</td>\n",
       "    </tr>\n",
       "    <tr>\n",
       "      <td>53252</td>\n",
       "      <td>46610</td>\n",
       "      <td>1</td>\n",
       "    </tr>\n",
       "    <tr>\n",
       "      <td>134295</td>\n",
       "      <td>20257</td>\n",
       "      <td>1</td>\n",
       "    </tr>\n",
       "    <tr>\n",
       "      <td>145733</td>\n",
       "      <td>98941</td>\n",
       "      <td>1</td>\n",
       "    </tr>\n",
       "    <tr>\n",
       "      <td>221987</td>\n",
       "      <td>132982</td>\n",
       "      <td>1</td>\n",
       "    </tr>\n",
       "    <tr>\n",
       "      <td>231359</td>\n",
       "      <td>98941</td>\n",
       "      <td>1</td>\n",
       "    </tr>\n",
       "    <tr>\n",
       "      <td>252871</td>\n",
       "      <td>146156</td>\n",
       "      <td>-1</td>\n",
       "    </tr>\n",
       "    <tr>\n",
       "      <td>316970</td>\n",
       "      <td>20257</td>\n",
       "      <td>1</td>\n",
       "    </tr>\n",
       "    <tr>\n",
       "      <td>321372</td>\n",
       "      <td>173351</td>\n",
       "      <td>1</td>\n",
       "    </tr>\n",
       "    <tr>\n",
       "      <td>341262</td>\n",
       "      <td>180816</td>\n",
       "      <td>1</td>\n",
       "    </tr>\n",
       "    <tr>\n",
       "      <td>414302</td>\n",
       "      <td>205842</td>\n",
       "      <td>1</td>\n",
       "    </tr>\n",
       "    <tr>\n",
       "      <td>422567</td>\n",
       "      <td>98941</td>\n",
       "      <td>1</td>\n",
       "    </tr>\n",
       "    <tr>\n",
       "      <td>444579</td>\n",
       "      <td>215863</td>\n",
       "      <td>1</td>\n",
       "    </tr>\n",
       "    <tr>\n",
       "      <td>448357</td>\n",
       "      <td>216894</td>\n",
       "      <td>1</td>\n",
       "    </tr>\n",
       "    <tr>\n",
       "      <td>460388</td>\n",
       "      <td>220897</td>\n",
       "      <td>-1</td>\n",
       "    </tr>\n",
       "    <tr>\n",
       "      <td>471190</td>\n",
       "      <td>223814</td>\n",
       "      <td>1</td>\n",
       "    </tr>\n",
       "    <tr>\n",
       "      <td>490710</td>\n",
       "      <td>20257</td>\n",
       "      <td>1</td>\n",
       "    </tr>\n",
       "    <tr>\n",
       "      <td>491891</td>\n",
       "      <td>230418</td>\n",
       "      <td>1</td>\n",
       "    </tr>\n",
       "    <tr>\n",
       "      <td>515094</td>\n",
       "      <td>237708</td>\n",
       "      <td>-1</td>\n",
       "    </tr>\n",
       "    <tr>\n",
       "      <td>607623</td>\n",
       "      <td>264987</td>\n",
       "      <td>1</td>\n",
       "    </tr>\n",
       "  </tbody>\n",
       "</table>\n",
       "</div>"
      ],
      "text/plain": [
       "        userid  actual\n",
       "16821    20257       1\n",
       "53252    46610       1\n",
       "134295   20257       1\n",
       "145733   98941       1\n",
       "221987  132982       1\n",
       "231359   98941       1\n",
       "252871  146156      -1\n",
       "316970   20257       1\n",
       "321372  173351       1\n",
       "341262  180816       1\n",
       "414302  205842       1\n",
       "422567   98941       1\n",
       "444579  215863       1\n",
       "448357  216894       1\n",
       "460388  220897      -1\n",
       "471190  223814       1\n",
       "490710   20257       1\n",
       "491891  230418       1\n",
       "515094  237708      -1\n",
       "607623  264987       1"
      ]
     },
     "execution_count": 77,
     "metadata": {},
     "output_type": "execute_result"
    }
   ],
   "source": [
    "#get the actual and predicted values for these users from the dataframe - 'data'\n",
    "\n",
    "users_0_to_5_sample_yzip[['userid','actual']] = data[data['userid'].isin(list(temp1))][['userid','label']]\n",
    "users_0_to_5_sample_yzip"
   ]
  },
  {
   "cell_type": "code",
   "execution_count": 78,
   "metadata": {},
   "outputs": [
    {
     "data": {
      "text/html": [
       "<div>\n",
       "<style scoped>\n",
       "    .dataframe tbody tr th:only-of-type {\n",
       "        vertical-align: middle;\n",
       "    }\n",
       "\n",
       "    .dataframe tbody tr th {\n",
       "        vertical-align: top;\n",
       "    }\n",
       "\n",
       "    .dataframe thead th {\n",
       "        text-align: right;\n",
       "    }\n",
       "</style>\n",
       "<table border=\"1\" class=\"dataframe\">\n",
       "  <thead>\n",
       "    <tr style=\"text-align: right;\">\n",
       "      <th></th>\n",
       "      <th>userid</th>\n",
       "      <th>actual</th>\n",
       "      <th>predicted</th>\n",
       "    </tr>\n",
       "  </thead>\n",
       "  <tbody>\n",
       "    <tr>\n",
       "      <td>16821</td>\n",
       "      <td>20257</td>\n",
       "      <td>1</td>\n",
       "      <td>-1</td>\n",
       "    </tr>\n",
       "    <tr>\n",
       "      <td>53252</td>\n",
       "      <td>46610</td>\n",
       "      <td>1</td>\n",
       "      <td>-1</td>\n",
       "    </tr>\n",
       "    <tr>\n",
       "      <td>145733</td>\n",
       "      <td>98941</td>\n",
       "      <td>1</td>\n",
       "      <td>-1</td>\n",
       "    </tr>\n",
       "    <tr>\n",
       "      <td>221987</td>\n",
       "      <td>132982</td>\n",
       "      <td>1</td>\n",
       "      <td>-1</td>\n",
       "    </tr>\n",
       "    <tr>\n",
       "      <td>252871</td>\n",
       "      <td>146156</td>\n",
       "      <td>-1</td>\n",
       "      <td>-1</td>\n",
       "    </tr>\n",
       "    <tr>\n",
       "      <td>321372</td>\n",
       "      <td>173351</td>\n",
       "      <td>1</td>\n",
       "      <td>-1</td>\n",
       "    </tr>\n",
       "    <tr>\n",
       "      <td>341262</td>\n",
       "      <td>180816</td>\n",
       "      <td>1</td>\n",
       "      <td>-1</td>\n",
       "    </tr>\n",
       "    <tr>\n",
       "      <td>414302</td>\n",
       "      <td>205842</td>\n",
       "      <td>1</td>\n",
       "      <td>-1</td>\n",
       "    </tr>\n",
       "    <tr>\n",
       "      <td>444579</td>\n",
       "      <td>215863</td>\n",
       "      <td>1</td>\n",
       "      <td>-1</td>\n",
       "    </tr>\n",
       "    <tr>\n",
       "      <td>448357</td>\n",
       "      <td>216894</td>\n",
       "      <td>1</td>\n",
       "      <td>-1</td>\n",
       "    </tr>\n",
       "    <tr>\n",
       "      <td>460388</td>\n",
       "      <td>220897</td>\n",
       "      <td>-1</td>\n",
       "      <td>-1</td>\n",
       "    </tr>\n",
       "    <tr>\n",
       "      <td>471190</td>\n",
       "      <td>223814</td>\n",
       "      <td>1</td>\n",
       "      <td>-1</td>\n",
       "    </tr>\n",
       "    <tr>\n",
       "      <td>491891</td>\n",
       "      <td>230418</td>\n",
       "      <td>1</td>\n",
       "      <td>-1</td>\n",
       "    </tr>\n",
       "    <tr>\n",
       "      <td>515094</td>\n",
       "      <td>237708</td>\n",
       "      <td>-1</td>\n",
       "      <td>-1</td>\n",
       "    </tr>\n",
       "    <tr>\n",
       "      <td>607623</td>\n",
       "      <td>264987</td>\n",
       "      <td>1</td>\n",
       "      <td>-1</td>\n",
       "    </tr>\n",
       "  </tbody>\n",
       "</table>\n",
       "</div>"
      ],
      "text/plain": [
       "        userid  actual  predicted\n",
       "16821    20257       1         -1\n",
       "53252    46610       1         -1\n",
       "145733   98941       1         -1\n",
       "221987  132982       1         -1\n",
       "252871  146156      -1         -1\n",
       "321372  173351       1         -1\n",
       "341262  180816       1         -1\n",
       "414302  205842       1         -1\n",
       "444579  215863       1         -1\n",
       "448357  216894       1         -1\n",
       "460388  220897      -1         -1\n",
       "471190  223814       1         -1\n",
       "491891  230418       1         -1\n",
       "515094  237708      -1         -1\n",
       "607623  264987       1         -1"
      ]
     },
     "execution_count": 78,
     "metadata": {},
     "output_type": "execute_result"
    }
   ],
   "source": [
    "users_0_to_5_sample_yzip['predicted'] = -1\n",
    "users_0_to_5_sample_yzip.drop_duplicates()"
   ]
  },
  {
   "cell_type": "code",
   "execution_count": 79,
   "metadata": {},
   "outputs": [],
   "source": [
    "users_85_to_90 = temp['userid'].loc[temp['review_count_bins'] == pd.Interval(85, 90)]"
   ]
  },
  {
   "cell_type": "code",
   "execution_count": 80,
   "metadata": {},
   "outputs": [
    {
     "data": {
      "text/plain": [
       "483       5527\n",
       "533       5577\n",
       "1918      6962\n",
       "2271      7315\n",
       "2340      7384\n",
       "3314      8358\n",
       "3331      8375\n",
       "4684      9728\n",
       "6857     11901\n",
       "7762     12806\n",
       "7845     12889\n",
       "8405     13449\n",
       "8674     13718\n",
       "12192    17236\n",
       "18975    24019\n",
       "Name: userid, dtype: int64"
      ]
     },
     "execution_count": 80,
     "metadata": {},
     "output_type": "execute_result"
    }
   ],
   "source": [
    "users_85_to_90"
   ]
  },
  {
   "cell_type": "code",
   "execution_count": 81,
   "metadata": {},
   "outputs": [
    {
     "data": {
      "text/plain": [
       "15"
      ]
     },
     "execution_count": 81,
     "metadata": {},
     "output_type": "execute_result"
    }
   ],
   "source": [
    "len(users_85_to_90)"
   ]
  },
  {
   "cell_type": "code",
   "execution_count": 82,
   "metadata": {},
   "outputs": [],
   "source": [
    "#randomly choose 9 people out of these. \n",
    "\n",
    "users_85_to_90_yzip = pd.DataFrame()\n",
    "users_85_to_90_yzip[['userid','actual']] = data[data['userid'].isin(list(users_85_to_90))][['userid','label']]"
   ]
  },
  {
   "cell_type": "code",
   "execution_count": 83,
   "metadata": {},
   "outputs": [
    {
     "data": {
      "text/html": [
       "<div>\n",
       "<style scoped>\n",
       "    .dataframe tbody tr th:only-of-type {\n",
       "        vertical-align: middle;\n",
       "    }\n",
       "\n",
       "    .dataframe tbody tr th {\n",
       "        vertical-align: top;\n",
       "    }\n",
       "\n",
       "    .dataframe thead th {\n",
       "        text-align: right;\n",
       "    }\n",
       "</style>\n",
       "<table border=\"1\" class=\"dataframe\">\n",
       "  <thead>\n",
       "    <tr style=\"text-align: right;\">\n",
       "      <th></th>\n",
       "      <th>userid</th>\n",
       "      <th>actual</th>\n",
       "    </tr>\n",
       "  </thead>\n",
       "  <tbody>\n",
       "    <tr>\n",
       "      <td>124</td>\n",
       "      <td>1047</td>\n",
       "      <td>1</td>\n",
       "    </tr>\n",
       "    <tr>\n",
       "      <td>956</td>\n",
       "      <td>1876</td>\n",
       "      <td>1</td>\n",
       "    </tr>\n",
       "    <tr>\n",
       "      <td>1403</td>\n",
       "      <td>2312</td>\n",
       "      <td>1</td>\n",
       "    </tr>\n",
       "    <tr>\n",
       "      <td>2085</td>\n",
       "      <td>2954</td>\n",
       "      <td>1</td>\n",
       "    </tr>\n",
       "    <tr>\n",
       "      <td>2437</td>\n",
       "      <td>3293</td>\n",
       "      <td>1</td>\n",
       "    </tr>\n",
       "    <tr>\n",
       "      <td>3862</td>\n",
       "      <td>4654</td>\n",
       "      <td>1</td>\n",
       "    </tr>\n",
       "    <tr>\n",
       "      <td>4525</td>\n",
       "      <td>5260</td>\n",
       "      <td>1</td>\n",
       "    </tr>\n",
       "    <tr>\n",
       "      <td>4858</td>\n",
       "      <td>5558</td>\n",
       "      <td>1</td>\n",
       "    </tr>\n",
       "    <tr>\n",
       "      <td>5272</td>\n",
       "      <td>5908</td>\n",
       "      <td>1</td>\n",
       "    </tr>\n",
       "  </tbody>\n",
       "</table>\n",
       "</div>"
      ],
      "text/plain": [
       "      userid  actual\n",
       "124     1047       1\n",
       "956     1876       1\n",
       "1403    2312       1\n",
       "2085    2954       1\n",
       "2437    3293       1\n",
       "3862    4654       1\n",
       "4525    5260       1\n",
       "4858    5558       1\n",
       "5272    5908       1"
      ]
     },
     "execution_count": 83,
     "metadata": {},
     "output_type": "execute_result"
    }
   ],
   "source": [
    "users_85_to_90_ynyc.drop_duplicates()"
   ]
  },
  {
   "cell_type": "code",
   "execution_count": 94,
   "metadata": {},
   "outputs": [],
   "source": [
    "#>80\n",
    "users_greater_80 = temp['userid'].loc[temp['review_count_bins'] == pd.Interval(105,110)]"
   ]
  },
  {
   "cell_type": "code",
   "execution_count": 95,
   "metadata": {},
   "outputs": [
    {
     "data": {
      "text/plain": [
       "7"
      ]
     },
     "execution_count": 95,
     "metadata": {},
     "output_type": "execute_result"
    }
   ],
   "source": [
    "len(users_greater_80)"
   ]
  },
  {
   "cell_type": "code",
   "execution_count": 96,
   "metadata": {},
   "outputs": [],
   "source": [
    "#randomly choose 9 people out of these. \n",
    "\n",
    "users_more_80_yzip = pd.DataFrame()\n",
    "users_more_80_yzip[['userid','actual']] = data[data['userid'].isin(list(users_greater_80))][['userid','label']]"
   ]
  },
  {
   "cell_type": "code",
   "execution_count": 98,
   "metadata": {},
   "outputs": [
    {
     "data": {
      "text/html": [
       "<div>\n",
       "<style scoped>\n",
       "    .dataframe tbody tr th:only-of-type {\n",
       "        vertical-align: middle;\n",
       "    }\n",
       "\n",
       "    .dataframe tbody tr th {\n",
       "        vertical-align: top;\n",
       "    }\n",
       "\n",
       "    .dataframe thead th {\n",
       "        text-align: right;\n",
       "    }\n",
       "</style>\n",
       "<table border=\"1\" class=\"dataframe\">\n",
       "  <thead>\n",
       "    <tr style=\"text-align: right;\">\n",
       "      <th></th>\n",
       "      <th>userid</th>\n",
       "      <th>actual</th>\n",
       "    </tr>\n",
       "  </thead>\n",
       "  <tbody>\n",
       "    <tr>\n",
       "      <td>577</td>\n",
       "      <td>5620</td>\n",
       "      <td>1</td>\n",
       "    </tr>\n",
       "    <tr>\n",
       "      <td>2653</td>\n",
       "      <td>7688</td>\n",
       "      <td>1</td>\n",
       "    </tr>\n",
       "    <tr>\n",
       "      <td>3741</td>\n",
       "      <td>8748</td>\n",
       "      <td>1</td>\n",
       "    </tr>\n",
       "    <tr>\n",
       "      <td>4696</td>\n",
       "      <td>9679</td>\n",
       "      <td>1</td>\n",
       "    </tr>\n",
       "    <tr>\n",
       "      <td>6279</td>\n",
       "      <td>11146</td>\n",
       "      <td>1</td>\n",
       "    </tr>\n",
       "    <tr>\n",
       "      <td>13034</td>\n",
       "      <td>17116</td>\n",
       "      <td>1</td>\n",
       "    </tr>\n",
       "    <tr>\n",
       "      <td>18179</td>\n",
       "      <td>21344</td>\n",
       "      <td>1</td>\n",
       "    </tr>\n",
       "  </tbody>\n",
       "</table>\n",
       "</div>"
      ],
      "text/plain": [
       "       userid  actual\n",
       "577      5620       1\n",
       "2653     7688       1\n",
       "3741     8748       1\n",
       "4696     9679       1\n",
       "6279    11146       1\n",
       "13034   17116       1\n",
       "18179   21344       1"
      ]
     },
     "execution_count": 98,
     "metadata": {},
     "output_type": "execute_result"
    }
   ],
   "source": [
    "users_more_80_yzip.drop_duplicates()"
   ]
  },
  {
   "cell_type": "code",
   "execution_count": null,
   "metadata": {},
   "outputs": [],
   "source": [
    "#conclusion: \n",
    "# what we went to prove. but, what we found. \n",
    "# problem in dataset itself. Maybe, yelp filters that way. Starts trusting people who write more reviews...\n",
    "#We should try with some other datasets."
   ]
  }
 ],
 "metadata": {
  "kernelspec": {
   "display_name": "Python 3",
   "language": "python",
   "name": "python3"
  },
  "language_info": {
   "codemirror_mode": {
    "name": "ipython",
    "version": 3
   },
   "file_extension": ".py",
   "mimetype": "text/x-python",
   "name": "python",
   "nbconvert_exporter": "python",
   "pygments_lexer": "ipython3",
   "version": "3.7.1"
  }
 },
 "nbformat": 4,
 "nbformat_minor": 2
}
